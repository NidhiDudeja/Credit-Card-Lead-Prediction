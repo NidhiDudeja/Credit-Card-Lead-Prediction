{
 "cells": [
  {
   "cell_type": "code",
   "execution_count": 77,
   "metadata": {},
   "outputs": [],
   "source": [
    "#importing the required libraries\n",
    "import numpy as np\n",
    "import pandas as pd\n",
    "import matplotlib.pyplot as plt\n",
    "from sklearn import preprocessing\n",
    "from sklearn.preprocessing import StandardScaler\n",
    "from sklearn import model_selection\n",
    "from sklearn.linear_model import LogisticRegression\n",
    "from sklearn.metrics import confusion_matrix\n",
    "from sklearn.metrics import classification_report\n",
    "from sklearn.metrics import roc_auc_score\n",
    "from sklearn.naive_bayes import GaussianNB\n",
    "from sklearn.tree import DecisionTreeClassifier\n",
    "from sklearn.ensemble import RandomForestClassifier\n",
    "from xgboost import XGBClassifier\n",
    "from sklearn.ensemble import GradientBoostingClassifier"
   ]
  },
  {
   "cell_type": "code",
   "execution_count": 78,
   "metadata": {},
   "outputs": [],
   "source": [
    "#loading the data\n",
    "train_data=pd.read_csv(r\"C:\\Users\\Nehad\\Downloads\\train_s3TEQDk.csv\")\n",
    "test_data=pd.read_csv(r\"C:\\Users\\Nehad\\Downloads\\test_mSzZ8RL.csv\")"
   ]
  },
  {
   "cell_type": "code",
   "execution_count": 79,
   "metadata": {},
   "outputs": [
    {
     "name": "stdout",
     "output_type": "stream",
     "text": [
      "(245725, 11)\n",
      "(105312, 10)\n"
     ]
    }
   ],
   "source": [
    "#inspecting the data size\n",
    "print(train_data.shape)\n",
    "print(test_data.shape)"
   ]
  },
  {
   "cell_type": "markdown",
   "metadata": {},
   "source": [
    "### The train data has 245725 rows and 11 columns whereas test data has 105312 rows and 10 columns¶"
   ]
  },
  {
   "cell_type": "code",
   "execution_count": 80,
   "metadata": {},
   "outputs": [
    {
     "data": {
      "text/plain": [
       "ID                      0.000000\n",
       "Gender                  0.000000\n",
       "Age                     0.000000\n",
       "Region_Code             0.000000\n",
       "Occupation              0.000000\n",
       "Channel_Code            0.000000\n",
       "Vintage                 0.000000\n",
       "Credit_Product         11.934073\n",
       "Avg_Account_Balance     0.000000\n",
       "Is_Active               0.000000\n",
       "Is_Lead                 0.000000\n",
       "dtype: float64"
      ]
     },
     "execution_count": 80,
     "metadata": {},
     "output_type": "execute_result"
    }
   ],
   "source": [
    "# checking null values in train data\n",
    "train_data.isnull().sum()/train_data.shape[0]*100"
   ]
  },
  {
   "cell_type": "code",
   "execution_count": 81,
   "metadata": {},
   "outputs": [
    {
     "data": {
      "text/plain": [
       "ID                      0.000000\n",
       "Gender                  0.000000\n",
       "Age                     0.000000\n",
       "Region_Code             0.000000\n",
       "Occupation              0.000000\n",
       "Channel_Code            0.000000\n",
       "Vintage                 0.000000\n",
       "Credit_Product         11.890383\n",
       "Avg_Account_Balance     0.000000\n",
       "Is_Active               0.000000\n",
       "dtype: float64"
      ]
     },
     "execution_count": 81,
     "metadata": {},
     "output_type": "execute_result"
    }
   ],
   "source": [
    "#checking null values in test data\n",
    "test_data.isnull().sum()/test_data.shape[0]*100"
   ]
  },
  {
   "cell_type": "markdown",
   "metadata": {},
   "source": [
    "### In both train and test data,the credit product column has more than 11% missing values"
   ]
  },
  {
   "cell_type": "code",
   "execution_count": 82,
   "metadata": {},
   "outputs": [],
   "source": [
    "#Since the credict product is a Categorical Column so we can fill the missing values with the help of mode function\n",
    "train_data['Credit_Product'].fillna(train_data['Credit_Product'].mode()[0],inplace=True)\n",
    "test_data['Credit_Product'].fillna(test_data['Credit_Product'].mode()[0],inplace=True)"
   ]
  },
  {
   "cell_type": "code",
   "execution_count": 83,
   "metadata": {},
   "outputs": [
    {
     "name": "stdout",
     "output_type": "stream",
     "text": [
      "ID                     0\n",
      "Gender                 0\n",
      "Age                    0\n",
      "Region_Code            0\n",
      "Occupation             0\n",
      "Channel_Code           0\n",
      "Vintage                0\n",
      "Credit_Product         0\n",
      "Avg_Account_Balance    0\n",
      "Is_Active              0\n",
      "Is_Lead                0\n",
      "dtype: int64\n",
      "--------\n",
      "ID                     0\n",
      "Gender                 0\n",
      "Age                    0\n",
      "Region_Code            0\n",
      "Occupation             0\n",
      "Channel_Code           0\n",
      "Vintage                0\n",
      "Credit_Product         0\n",
      "Avg_Account_Balance    0\n",
      "Is_Active              0\n",
      "dtype: int64\n"
     ]
    }
   ],
   "source": [
    "print(train_data.isnull().sum())\n",
    "print('--------')\n",
    "print(test_data.isnull().sum())\n",
    "#now the test and train data has no missing values"
   ]
  },
  {
   "cell_type": "markdown",
   "metadata": {},
   "source": [
    "### Before fitting any model,First let us explore the data by performing Exploratory Data Analysis"
   ]
  },
  {
   "cell_type": "code",
   "execution_count": 84,
   "metadata": {},
   "outputs": [
    {
     "data": {
      "text/plain": [
       "Index(['ID', 'Gender', 'Age', 'Region_Code', 'Occupation', 'Channel_Code',\n",
       "       'Vintage', 'Credit_Product', 'Avg_Account_Balance', 'Is_Active',\n",
       "       'Is_Lead'],\n",
       "      dtype='object')"
      ]
     },
     "execution_count": 84,
     "metadata": {},
     "output_type": "execute_result"
    }
   ],
   "source": [
    "train_data.columns"
   ]
  },
  {
   "cell_type": "code",
   "execution_count": 85,
   "metadata": {},
   "outputs": [
    {
     "data": {
      "image/png": "[encoded data removed]",
      "text/plain": [
       "<Figure size 432x288 with 1 Axes>"
      ]
     },
     "metadata": {},
     "output_type": "display_data"
    }
   ],
   "source": [
    "# Seeing the proportion of Male and Female customers\n",
    "gender_value=train_data['Gender'].value_counts().index\n",
    "gender_count=train_data['Gender'].value_counts().values\n",
    "plt.pie(gender_count,labels=gender_value,autopct='%.1f%%')\n",
    "plt.axis('equal')\n",
    "plt.show()"
   ]
  },
  {
   "cell_type": "markdown",
   "metadata": {},
   "source": [
    "### Bank has larger proportion of male customers than female(difference being almost 5%)"
   ]
  },
  {
   "cell_type": "code",
   "execution_count": 86,
   "metadata": {},
   "outputs": [
    {
     "data": {
      "image/png": "[encoded data removed]",
      "text/plain": [
       "<Figure size 1440x576 with 1 Axes>"
      ]
     },
     "metadata": {
      "needs_background": "light"
     },
     "output_type": "display_data"
    }
   ],
   "source": [
    "# Exploring the age range of customers and seeing the relationship between age and the interest in buying credit cards\n",
    "plt.figure(figsize=(20,8))\n",
    "age_value=train_data[\"Age\"].value_counts().index\n",
    "age_count=train_data[\"Age\"].value_counts().values\n",
    "plt.bar(age_value,age_count)\n",
    "plt.xlabel('Age')\n",
    "plt.ylabel(\"No. of customers of respective age\")\n",
    "plt.show()"
   ]
  },
  {
   "cell_type": "markdown",
   "metadata": {},
   "source": [
    "### 1)The age range of customers of Bank is from 22 to 85 years\n",
    "### 2)The bank has maximum number of customers of age 26-28 years\n",
    "### 3)The bank should target young customers as the risk factor(in investment) decreases with age"
   ]
  },
  {
   "cell_type": "code",
   "execution_count": 87,
   "metadata": {},
   "outputs": [
    {
     "data": {
      "image/png": "[encoded data removed]",
      "text/plain": [
       "<Figure size 432x288 with 1 Axes>"
      ]
     },
     "metadata": {},
     "output_type": "display_data"
    }
   ],
   "source": [
    "# Visualizing the proportion of people with different occupation\n",
    "Occupation_value=train_data['Occupation'].value_counts().index\n",
    "Occupation_count=train_data['Occupation'].value_counts().values\n",
    "plt.pie(Occupation_count,labels=Occupation_value,autopct='%.1f%%',explode=[0,0,0,0.1])\n",
    "plt.axis('equal')\n",
    "plt.show()"
   ]
  },
  {
   "cell_type": "markdown",
   "metadata": {},
   "source": [
    "### Majority of customers are either self_employed or are salaried.Very few(only 1%) are enterpreneur"
   ]
  },
  {
   "cell_type": "code",
   "execution_count": 88,
   "metadata": {},
   "outputs": [
    {
     "data": {
      "image/png": "[encoded data removed]",
      "text/plain": [
       "<Figure size 432x288 with 1 Axes>"
      ]
     },
     "metadata": {
      "needs_background": "light"
     },
     "output_type": "display_data"
    }
   ],
   "source": [
    "# Interpreting the behaviour of customers who already have loans,credit cards \n",
    "Yes_credit=train_data[train_data['Is_Lead']==1]\n",
    "Credit_Product=Yes_credit['Credit_Product'].value_counts().index\n",
    "Credit_Product_count=Yes_credit['Credit_Product'].value_counts().values\n",
    "plt.bar(Credit_Product,Credit_Product_count)\n",
    "plt.xlabel(\"had previous loans,credit cards\")\n",
    "plt.ylabel(\"Count of people showing high inetrest in credit cards\")\n",
    "plt.show()"
   ]
  },
  {
   "cell_type": "markdown",
   "metadata": {},
   "source": [
    "### The customers who do not have any credit_product tend to show higher interest in recommended credit cards"
   ]
  },
  {
   "cell_type": "code",
   "execution_count": 89,
   "metadata": {},
   "outputs": [
    {
     "data": {
      "image/png": "[encoded data removed]",
      "text/plain": [
       "<Figure size 1440x576 with 1 Axes>"
      ]
     },
     "metadata": {
      "needs_background": "light"
     },
     "output_type": "display_data"
    }
   ],
   "source": [
    "# Seeing if region is impacting the behaviour of customers or not that is if the interest of customers is in anyway dependent upon the region in which they live\n",
    "plt.figure(figsize=(20,8))\n",
    "Yes_credit=train_data[train_data['Is_Lead']==1]\n",
    "region_code=Yes_credit['Region_Code'].value_counts().index\n",
    "region_code_count=Yes_credit['Region_Code'].value_counts().values\n",
    "plt.bar(region_code,region_code_count)\n",
    "plt.xticks(rotation=90)\n",
    "plt.show()"
   ]
  },
  {
   "cell_type": "markdown",
   "metadata": {},
   "source": [
    "### The region_code is playing a crucial role in deciding whether the customer is interested in buying recomemended credit cards.The customers having region code RG268 shows a very high interest in buying credit cards"
   ]
  },
  {
   "cell_type": "code",
   "execution_count": 90,
   "metadata": {},
   "outputs": [
    {
     "data": {
      "image/png": "[encoded data removed]",
      "text/plain": [
       "<Figure size 432x288 with 1 Axes>"
      ]
     },
     "metadata": {
      "needs_background": "light"
     },
     "output_type": "display_data"
    }
   ],
   "source": [
    "#Checking if the training data is balanced or not(This is important because it will have a large impact on the metric which we will use further for checking the accuracy of model)\n",
    "rows_of_lead_1=train_data[train_data['Is_Lead']==1].shape[0]\n",
    "rows_of_lead_0=train_data[train_data['Is_Lead']==0].shape[0]\n",
    "plt.bar([1,0],[rows_of_lead_1,rows_of_lead_0])\n",
    "plt.xticks([1,0])\n",
    "plt.xlabel('Is_Lead')\n",
    "plt.ylabel('Count of datapoints having respective Is_Lead')\n",
    "plt.show()"
   ]
  },
  {
   "cell_type": "markdown",
   "metadata": {},
   "source": [
    "### The above bargraph clearly shows that the train data is highly imbalanced"
   ]
  },
  {
   "cell_type": "code",
   "execution_count": 91,
   "metadata": {},
   "outputs": [
    {
     "data": {
      "text/html": [
       "<div>\n",
       "<style scoped>\n",
       "    .dataframe tbody tr th:only-of-type {\n",
       "        vertical-align: middle;\n",
       "    }\n",
       "\n",
       "    .dataframe tbody tr th {\n",
       "        vertical-align: top;\n",
       "    }\n",
       "\n",
       "    .dataframe thead th {\n",
       "        text-align: right;\n",
       "    }\n",
       "</style>\n",
       "<table border=\"1\" class=\"dataframe\">\n",
       "  <thead>\n",
       "    <tr style=\"text-align: right;\">\n",
       "      <th></th>\n",
       "      <th>ID</th>\n",
       "      <th>Gender</th>\n",
       "      <th>Age</th>\n",
       "      <th>Region_Code</th>\n",
       "      <th>Occupation</th>\n",
       "      <th>Channel_Code</th>\n",
       "      <th>Vintage</th>\n",
       "      <th>Credit_Product</th>\n",
       "      <th>Avg_Account_Balance</th>\n",
       "      <th>Is_Active</th>\n",
       "      <th>Is_Lead</th>\n",
       "    </tr>\n",
       "  </thead>\n",
       "  <tbody>\n",
       "    <tr>\n",
       "      <td>0</td>\n",
       "      <td>NNVBBKZB</td>\n",
       "      <td>Female</td>\n",
       "      <td>73</td>\n",
       "      <td>RG268</td>\n",
       "      <td>Other</td>\n",
       "      <td>X3</td>\n",
       "      <td>43</td>\n",
       "      <td>No</td>\n",
       "      <td>1045696</td>\n",
       "      <td>No</td>\n",
       "      <td>0</td>\n",
       "    </tr>\n",
       "    <tr>\n",
       "      <td>1</td>\n",
       "      <td>IDD62UNG</td>\n",
       "      <td>Female</td>\n",
       "      <td>30</td>\n",
       "      <td>RG277</td>\n",
       "      <td>Salaried</td>\n",
       "      <td>X1</td>\n",
       "      <td>32</td>\n",
       "      <td>No</td>\n",
       "      <td>581988</td>\n",
       "      <td>No</td>\n",
       "      <td>0</td>\n",
       "    </tr>\n",
       "    <tr>\n",
       "      <td>2</td>\n",
       "      <td>HD3DSEMC</td>\n",
       "      <td>Female</td>\n",
       "      <td>56</td>\n",
       "      <td>RG268</td>\n",
       "      <td>Self_Employed</td>\n",
       "      <td>X3</td>\n",
       "      <td>26</td>\n",
       "      <td>No</td>\n",
       "      <td>1484315</td>\n",
       "      <td>Yes</td>\n",
       "      <td>0</td>\n",
       "    </tr>\n",
       "    <tr>\n",
       "      <td>3</td>\n",
       "      <td>BF3NC7KV</td>\n",
       "      <td>Male</td>\n",
       "      <td>34</td>\n",
       "      <td>RG270</td>\n",
       "      <td>Salaried</td>\n",
       "      <td>X1</td>\n",
       "      <td>19</td>\n",
       "      <td>No</td>\n",
       "      <td>470454</td>\n",
       "      <td>No</td>\n",
       "      <td>0</td>\n",
       "    </tr>\n",
       "    <tr>\n",
       "      <td>4</td>\n",
       "      <td>TEASRWXV</td>\n",
       "      <td>Female</td>\n",
       "      <td>30</td>\n",
       "      <td>RG282</td>\n",
       "      <td>Salaried</td>\n",
       "      <td>X1</td>\n",
       "      <td>33</td>\n",
       "      <td>No</td>\n",
       "      <td>886787</td>\n",
       "      <td>No</td>\n",
       "      <td>0</td>\n",
       "    </tr>\n",
       "    <tr>\n",
       "      <td>...</td>\n",
       "      <td>...</td>\n",
       "      <td>...</td>\n",
       "      <td>...</td>\n",
       "      <td>...</td>\n",
       "      <td>...</td>\n",
       "      <td>...</td>\n",
       "      <td>...</td>\n",
       "      <td>...</td>\n",
       "      <td>...</td>\n",
       "      <td>...</td>\n",
       "      <td>...</td>\n",
       "    </tr>\n",
       "    <tr>\n",
       "      <td>245697</td>\n",
       "      <td>DTQJBXK6</td>\n",
       "      <td>Male</td>\n",
       "      <td>43</td>\n",
       "      <td>RG257</td>\n",
       "      <td>Salaried</td>\n",
       "      <td>X1</td>\n",
       "      <td>50</td>\n",
       "      <td>No</td>\n",
       "      <td>551203</td>\n",
       "      <td>Yes</td>\n",
       "      <td>1</td>\n",
       "    </tr>\n",
       "    <tr>\n",
       "      <td>245699</td>\n",
       "      <td>MARTXU7T</td>\n",
       "      <td>Male</td>\n",
       "      <td>53</td>\n",
       "      <td>RG254</td>\n",
       "      <td>Other</td>\n",
       "      <td>X2</td>\n",
       "      <td>19</td>\n",
       "      <td>No</td>\n",
       "      <td>1141825</td>\n",
       "      <td>Yes</td>\n",
       "      <td>1</td>\n",
       "    </tr>\n",
       "    <tr>\n",
       "      <td>245709</td>\n",
       "      <td>4GZKAUQC</td>\n",
       "      <td>Male</td>\n",
       "      <td>36</td>\n",
       "      <td>RG284</td>\n",
       "      <td>Self_Employed</td>\n",
       "      <td>X3</td>\n",
       "      <td>15</td>\n",
       "      <td>Yes</td>\n",
       "      <td>608110</td>\n",
       "      <td>Yes</td>\n",
       "      <td>1</td>\n",
       "    </tr>\n",
       "    <tr>\n",
       "      <td>245713</td>\n",
       "      <td>BZ7NHPMJ</td>\n",
       "      <td>Female</td>\n",
       "      <td>41</td>\n",
       "      <td>RG277</td>\n",
       "      <td>Self_Employed</td>\n",
       "      <td>X2</td>\n",
       "      <td>13</td>\n",
       "      <td>Yes</td>\n",
       "      <td>898170</td>\n",
       "      <td>Yes</td>\n",
       "      <td>1</td>\n",
       "    </tr>\n",
       "    <tr>\n",
       "      <td>245714</td>\n",
       "      <td>KSCFGXV3</td>\n",
       "      <td>Female</td>\n",
       "      <td>46</td>\n",
       "      <td>RG268</td>\n",
       "      <td>Self_Employed</td>\n",
       "      <td>X2</td>\n",
       "      <td>19</td>\n",
       "      <td>No</td>\n",
       "      <td>993195</td>\n",
       "      <td>No</td>\n",
       "      <td>1</td>\n",
       "    </tr>\n",
       "  </tbody>\n",
       "</table>\n",
       "<p>118288 rows × 11 columns</p>\n",
       "</div>"
      ],
      "text/plain": [
       "              ID  Gender  Age Region_Code     Occupation Channel_Code  \\\n",
       "0       NNVBBKZB  Female   73       RG268          Other           X3   \n",
       "1       IDD62UNG  Female   30       RG277       Salaried           X1   \n",
       "2       HD3DSEMC  Female   56       RG268  Self_Employed           X3   \n",
       "3       BF3NC7KV    Male   34       RG270       Salaried           X1   \n",
       "4       TEASRWXV  Female   30       RG282       Salaried           X1   \n",
       "...          ...     ...  ...         ...            ...          ...   \n",
       "245697  DTQJBXK6    Male   43       RG257       Salaried           X1   \n",
       "245699  MARTXU7T    Male   53       RG254          Other           X2   \n",
       "245709  4GZKAUQC    Male   36       RG284  Self_Employed           X3   \n",
       "245713  BZ7NHPMJ  Female   41       RG277  Self_Employed           X2   \n",
       "245714  KSCFGXV3  Female   46       RG268  Self_Employed           X2   \n",
       "\n",
       "        Vintage Credit_Product  Avg_Account_Balance Is_Active  Is_Lead  \n",
       "0            43             No              1045696        No        0  \n",
       "1            32             No               581988        No        0  \n",
       "2            26             No              1484315       Yes        0  \n",
       "3            19             No               470454        No        0  \n",
       "4            33             No               886787        No        0  \n",
       "...         ...            ...                  ...       ...      ...  \n",
       "245697       50             No               551203       Yes        1  \n",
       "245699       19             No              1141825       Yes        1  \n",
       "245709       15            Yes               608110       Yes        1  \n",
       "245713       13            Yes               898170       Yes        1  \n",
       "245714       19             No               993195        No        1  \n",
       "\n",
       "[118288 rows x 11 columns]"
      ]
     },
     "execution_count": 91,
     "metadata": {},
     "output_type": "execute_result"
    }
   ],
   "source": [
    "# Our goal now will be to first make our data balanced\n",
    "train_data=pd.concat([train_data[train_data['Is_Lead']==0].iloc[:60000,:],train_data[train_data['Is_Lead']==1]])\n",
    "train_data"
   ]
  },
  {
   "cell_type": "code",
   "execution_count": 92,
   "metadata": {},
   "outputs": [
    {
     "data": {
      "image/png": "[encoded data removed]",
      "text/plain": [
       "<Figure size 432x288 with 1 Axes>"
      ]
     },
     "metadata": {
      "needs_background": "light"
     },
     "output_type": "display_data"
    }
   ],
   "source": [
    "rows_of_lead_1=train_data[train_data['Is_Lead']==1].shape[0]\n",
    "rows_of_lead_0=train_data[train_data['Is_Lead']==0].shape[0]\n",
    "plt.bar([1,0],[rows_of_lead_1,rows_of_lead_0])\n",
    "plt.xticks([1,0])\n",
    "plt.xlabel('Is_Lead')\n",
    "plt.ylabel('Count of datapoints having respective Is_Lead')\n",
    "plt.show()"
   ]
  },
  {
   "cell_type": "markdown",
   "metadata": {},
   "source": [
    "### The train_data has become balanced now"
   ]
  },
  {
   "cell_type": "code",
   "execution_count": 93,
   "metadata": {},
   "outputs": [],
   "source": [
    "# Now Preparing the proper input dataset, compatible with the machine learning algorithm requirements\n",
    "train_data.drop('ID',axis=1,inplace=True)"
   ]
  },
  {
   "cell_type": "code",
   "execution_count": 94,
   "metadata": {},
   "outputs": [],
   "source": [
    "test_data.drop('ID',axis=1,inplace=True)"
   ]
  },
  {
   "cell_type": "code",
   "execution_count": 95,
   "metadata": {},
   "outputs": [],
   "source": [
    "# Encoding the features of training data(using label encoding )\n",
    "label = preprocessing.LabelEncoder()\n",
    "for column_name in train_data.columns:\n",
    "    if train_data[column_name].dtype==object:\n",
    "       \n",
    "        train_data[column_name] = label.fit_transform(train_data[column_name])\n",
    "\n",
    "\n",
    "# Encoding the features of testing data\n",
    "label = preprocessing.LabelEncoder()\n",
    "for column_name in test_data.columns:\n",
    "    if test_data[column_name].dtype==object:\n",
    "       \n",
    "   \n",
    "        test_data[column_name] = label.fit_transform(test_data[column_name])"
   ]
  },
  {
   "cell_type": "code",
   "execution_count": 96,
   "metadata": {},
   "outputs": [
    {
     "data": {
      "text/plain": [
       "Gender                 int32\n",
       "Age                    int64\n",
       "Region_Code            int32\n",
       "Occupation             int32\n",
       "Channel_Code           int32\n",
       "Vintage                int64\n",
       "Credit_Product         int32\n",
       "Avg_Account_Balance    int64\n",
       "Is_Active              int32\n",
       "Is_Lead                int64\n",
       "dtype: object"
      ]
     },
     "execution_count": 96,
     "metadata": {},
     "output_type": "execute_result"
    }
   ],
   "source": [
    "train_data.dtypes"
   ]
  },
  {
   "cell_type": "code",
   "execution_count": 97,
   "metadata": {},
   "outputs": [
    {
     "data": {
      "text/plain": [
       "Gender                 int32\n",
       "Age                    int64\n",
       "Region_Code            int32\n",
       "Occupation             int32\n",
       "Channel_Code           int32\n",
       "Vintage                int64\n",
       "Credit_Product         int32\n",
       "Avg_Account_Balance    int64\n",
       "Is_Active              int32\n",
       "dtype: object"
      ]
     },
     "execution_count": 97,
     "metadata": {},
     "output_type": "execute_result"
    }
   ],
   "source": [
    "test_data.dtypes"
   ]
  },
  {
   "cell_type": "code",
   "execution_count": 98,
   "metadata": {},
   "outputs": [],
   "source": [
    "# differentiating the attributes from the target(for training data)\n",
    "dummy_train_values=train_data.values\n",
    "dummy_train_attributes=dummy_train_values[:,:-1]\n",
    "dummy_train_target=dummy_train_values[:,-1]"
   ]
  },
  {
   "cell_type": "code",
   "execution_count": 99,
   "metadata": {},
   "outputs": [],
   "source": [
    "dummy_test_values=test_data.values"
   ]
  },
  {
   "cell_type": "code",
   "execution_count": 100,
   "metadata": {},
   "outputs": [],
   "source": [
    "# Now doing feature scaling because we can see that Avg_account_balance column is not in range with the other columns\n",
    "Scaler=StandardScaler()\n",
    "Scaler.fit(dummy_train_attributes)\n",
    "dummy_train_attributes=Scaler.transform(dummy_train_attributes) # for train data\n",
    "dummy_test_values=Scaler.transform(dummy_test_values) # for test data"
   ]
  },
  {
   "cell_type": "code",
   "execution_count": 101,
   "metadata": {},
   "outputs": [],
   "source": [
    "# Since we are done with all the preprocessing on the data-now we will train the model\n",
    "# Before training let us first split the train data into training and testing data\n",
    "X_train,X_test,Y_train,Y_test=model_selection.train_test_split(dummy_train_attributes,dummy_train_target,random_state=1,test_size=0.2)"
   ]
  },
  {
   "cell_type": "markdown",
   "metadata": {},
   "source": [
    "### Logistic Regression"
   ]
  },
  {
   "cell_type": "code",
   "execution_count": 102,
   "metadata": {},
   "outputs": [
    {
     "name": "stderr",
     "output_type": "stream",
     "text": [
      "C:\\Users\\Nehad\\Anaconda3\\lib\\site-packages\\sklearn\\linear_model\\logistic.py:432: FutureWarning: Default solver will be changed to 'lbfgs' in 0.22. Specify a solver to silence this warning.\n",
      "  FutureWarning)\n"
     ]
    },
    {
     "data": {
      "text/plain": [
       "LogisticRegression(C=1.0, class_weight=None, dual=False, fit_intercept=True,\n",
       "                   intercept_scaling=1, l1_ratio=None, max_iter=100,\n",
       "                   multi_class='warn', n_jobs=None, penalty='l2',\n",
       "                   random_state=None, solver='warn', tol=0.0001, verbose=0,\n",
       "                   warm_start=False)"
      ]
     },
     "execution_count": 102,
     "metadata": {},
     "output_type": "execute_result"
    }
   ],
   "source": [
    "# Finally fitting the model\n",
    "clf=LogisticRegression()\n",
    "clf.fit(X_train,Y_train)\n"
   ]
  },
  {
   "cell_type": "code",
   "execution_count": 103,
   "metadata": {},
   "outputs": [
    {
     "data": {
      "text/plain": [
       "array([1, 1, 1, ..., 0, 1, 0], dtype=int64)"
      ]
     },
     "execution_count": 103,
     "metadata": {},
     "output_type": "execute_result"
    }
   ],
   "source": [
    "Y_test_prediction=clf.predict(X_test)\n",
    "Y_test_prediction"
   ]
  },
  {
   "cell_type": "code",
   "execution_count": 104,
   "metadata": {},
   "outputs": [
    {
     "name": "stdout",
     "output_type": "stream",
     "text": [
      "              precision    recall  f1-score   support\n",
      "\n",
      "           0       0.67      0.64      0.66     12048\n",
      "           1       0.65      0.67      0.66     11610\n",
      "\n",
      "    accuracy                           0.66     23658\n",
      "   macro avg       0.66      0.66      0.66     23658\n",
      "weighted avg       0.66      0.66      0.66     23658\n",
      "\n",
      "0.6581705976836588\n"
     ]
    }
   ],
   "source": [
    "# checking the accuracy\n",
    "print(classification_report(Y_test,Y_test_prediction))\n",
    "logistic_score=clf.score(X_test,Y_test)\n",
    "print(logistic_score)"
   ]
  },
  {
   "cell_type": "markdown",
   "metadata": {},
   "source": [
    "### Naive Bayes "
   ]
  },
  {
   "cell_type": "code",
   "execution_count": 105,
   "metadata": {},
   "outputs": [],
   "source": [
    "gnb=GaussianNB()"
   ]
  },
  {
   "cell_type": "code",
   "execution_count": 106,
   "metadata": {},
   "outputs": [
    {
     "data": {
      "text/plain": [
       "GaussianNB(priors=None, var_smoothing=1e-09)"
      ]
     },
     "execution_count": 106,
     "metadata": {},
     "output_type": "execute_result"
    }
   ],
   "source": [
    "gnb.fit(X_train,Y_train)"
   ]
  },
  {
   "cell_type": "code",
   "execution_count": 107,
   "metadata": {},
   "outputs": [
    {
     "data": {
      "text/plain": [
       "array([1, 1, 1, ..., 0, 1, 1], dtype=int64)"
      ]
     },
     "execution_count": 107,
     "metadata": {},
     "output_type": "execute_result"
    }
   ],
   "source": [
    "prediction_Gaussian=gnb.predict(X_test)\n",
    "prediction_Gaussian"
   ]
  },
  {
   "cell_type": "code",
   "execution_count": 108,
   "metadata": {},
   "outputs": [
    {
     "name": "stdout",
     "output_type": "stream",
     "text": [
      "              precision    recall  f1-score   support\n",
      "\n",
      "           0       0.68      0.62      0.65     12048\n",
      "           1       0.64      0.70      0.67     11610\n",
      "\n",
      "    accuracy                           0.66     23658\n",
      "   macro avg       0.66      0.66      0.66     23658\n",
      "weighted avg       0.66      0.66      0.66     23658\n",
      "\n",
      "0.6590582466818835\n"
     ]
    }
   ],
   "source": [
    "# checking the accuracy\n",
    "print(classification_report(Y_test,prediction_Gaussian))\n",
    "gaussian_score=gnb.score(X_test,Y_test)\n",
    "print(gaussian_score)"
   ]
  },
  {
   "cell_type": "markdown",
   "metadata": {},
   "source": [
    "### Decision Tree"
   ]
  },
  {
   "cell_type": "code",
   "execution_count": 109,
   "metadata": {},
   "outputs": [],
   "source": [
    "tree=DecisionTreeClassifier()"
   ]
  },
  {
   "cell_type": "code",
   "execution_count": 110,
   "metadata": {},
   "outputs": [
    {
     "data": {
      "text/plain": [
       "DecisionTreeClassifier(class_weight=None, criterion='gini', max_depth=None,\n",
       "                       max_features=None, max_leaf_nodes=None,\n",
       "                       min_impurity_decrease=0.0, min_impurity_split=None,\n",
       "                       min_samples_leaf=1, min_samples_split=2,\n",
       "                       min_weight_fraction_leaf=0.0, presort=False,\n",
       "                       random_state=None, splitter='best')"
      ]
     },
     "execution_count": 110,
     "metadata": {},
     "output_type": "execute_result"
    }
   ],
   "source": [
    "tree.fit(X_train,Y_train)"
   ]
  },
  {
   "cell_type": "code",
   "execution_count": 111,
   "metadata": {},
   "outputs": [
    {
     "data": {
      "text/plain": [
       "array([0, 0, 0, ..., 1, 1, 1], dtype=int64)"
      ]
     },
     "execution_count": 111,
     "metadata": {},
     "output_type": "execute_result"
    }
   ],
   "source": [
    "tree_prediction=tree.predict(X_test)\n",
    "tree_prediction"
   ]
  },
  {
   "cell_type": "code",
   "execution_count": 112,
   "metadata": {},
   "outputs": [
    {
     "name": "stdout",
     "output_type": "stream",
     "text": [
      "              precision    recall  f1-score   support\n",
      "\n",
      "           0       0.63      0.63      0.63     12048\n",
      "           1       0.61      0.61      0.61     11610\n",
      "\n",
      "    accuracy                           0.62     23658\n",
      "   macro avg       0.62      0.62      0.62     23658\n",
      "weighted avg       0.62      0.62      0.62     23658\n",
      "\n",
      "0.6218615267562769\n"
     ]
    }
   ],
   "source": [
    "# checking the accuracy\n",
    "print(classification_report(Y_test,tree_prediction))\n",
    "tree_score=tree.score(X_test,Y_test)\n",
    "print(tree_score)"
   ]
  },
  {
   "cell_type": "markdown",
   "metadata": {},
   "source": [
    "### Random Forest"
   ]
  },
  {
   "cell_type": "code",
   "execution_count": 113,
   "metadata": {},
   "outputs": [],
   "source": [
    "random_forest=RandomForestClassifier()"
   ]
  },
  {
   "cell_type": "code",
   "execution_count": 114,
   "metadata": {},
   "outputs": [
    {
     "name": "stderr",
     "output_type": "stream",
     "text": [
      "C:\\Users\\Nehad\\Anaconda3\\lib\\site-packages\\sklearn\\ensemble\\forest.py:245: FutureWarning: The default value of n_estimators will change from 10 in version 0.20 to 100 in 0.22.\n",
      "  \"10 in version 0.20 to 100 in 0.22.\", FutureWarning)\n"
     ]
    },
    {
     "data": {
      "text/plain": [
       "RandomForestClassifier(bootstrap=True, class_weight=None, criterion='gini',\n",
       "                       max_depth=None, max_features='auto', max_leaf_nodes=None,\n",
       "                       min_impurity_decrease=0.0, min_impurity_split=None,\n",
       "                       min_samples_leaf=1, min_samples_split=2,\n",
       "                       min_weight_fraction_leaf=0.0, n_estimators=10,\n",
       "                       n_jobs=None, oob_score=False, random_state=None,\n",
       "                       verbose=0, warm_start=False)"
      ]
     },
     "execution_count": 114,
     "metadata": {},
     "output_type": "execute_result"
    }
   ],
   "source": [
    "random_forest.fit(X_train,Y_train)"
   ]
  },
  {
   "cell_type": "code",
   "execution_count": 115,
   "metadata": {},
   "outputs": [
    {
     "data": {
      "text/plain": [
       "array([1, 0, 1, ..., 0, 1, 1], dtype=int64)"
      ]
     },
     "execution_count": 115,
     "metadata": {},
     "output_type": "execute_result"
    }
   ],
   "source": [
    "random_prediction=random_forest.predict(X_test)\n",
    "random_prediction"
   ]
  },
  {
   "cell_type": "code",
   "execution_count": 116,
   "metadata": {},
   "outputs": [
    {
     "name": "stdout",
     "output_type": "stream",
     "text": [
      "              precision    recall  f1-score   support\n",
      "\n",
      "           0       0.66      0.73      0.69     12048\n",
      "           1       0.68      0.62      0.65     11610\n",
      "\n",
      "    accuracy                           0.67     23658\n",
      "   macro avg       0.67      0.67      0.67     23658\n",
      "weighted avg       0.67      0.67      0.67     23658\n",
      "\n",
      "0.6721616366556767\n"
     ]
    }
   ],
   "source": [
    "# checking the accuracy\n",
    "print(classification_report(Y_test,random_prediction))\n",
    "random_score=random_forest.score(X_test,Y_test)\n",
    "print(random_score)"
   ]
  },
  {
   "cell_type": "markdown",
   "metadata": {},
   "source": [
    "### XBoost"
   ]
  },
  {
   "cell_type": "code",
   "execution_count": 117,
   "metadata": {},
   "outputs": [
    {
     "name": "stderr",
     "output_type": "stream",
     "text": [
      "C:\\Users\\Nehad\\Anaconda3\\lib\\site-packages\\xgboost\\sklearn.py:1146: UserWarning: The use of label encoder in XGBClassifier is deprecated and will be removed in a future release. To remove this warning, do the following: 1) Pass option use_label_encoder=False when constructing XGBClassifier object; and 2) Encode your labels (y) as integers starting with 0, i.e. 0, 1, 2, ..., [num_class - 1].\n",
      "  warnings.warn(label_encoder_deprecation_msg, UserWarning)\n"
     ]
    },
    {
     "name": "stdout",
     "output_type": "stream",
     "text": [
      "[16:01:44] WARNING: C:/Users/Administrator/workspace/xgboost-win64_release_1.4.0/src/learner.cc:1095: Starting in XGBoost 1.3.0, the default evaluation metric used with the objective 'binary:logistic' was changed from 'error' to 'logloss'. Explicitly set eval_metric if you'd like to restore the old behavior.\n"
     ]
    }
   ],
   "source": [
    "xgb=XGBClassifier(max_depth=3,n_estimators=300,learning_rate=0.05).fit(X_train,Y_train)"
   ]
  },
  {
   "cell_type": "code",
   "execution_count": 118,
   "metadata": {},
   "outputs": [
    {
     "data": {
      "text/plain": [
       "array([1, 0, 1, ..., 0, 0, 1], dtype=int64)"
      ]
     },
     "execution_count": 118,
     "metadata": {},
     "output_type": "execute_result"
    }
   ],
   "source": [
    "xgb_prediction=xgb.predict(X_test)\n",
    "xgb_prediction"
   ]
  },
  {
   "cell_type": "code",
   "execution_count": 119,
   "metadata": {},
   "outputs": [
    {
     "name": "stdout",
     "output_type": "stream",
     "text": [
      "              precision    recall  f1-score   support\n",
      "\n",
      "           0       0.74      0.70      0.72     12048\n",
      "           1       0.70      0.74      0.72     11610\n",
      "\n",
      "    accuracy                           0.72     23658\n",
      "   macro avg       0.72      0.72      0.72     23658\n",
      "weighted avg       0.72      0.72      0.72     23658\n",
      "\n",
      "0.7181925775636149\n"
     ]
    }
   ],
   "source": [
    "# checking the accuracy\n",
    "print(classification_report(Y_test,xgb_prediction))\n",
    "xgb_score=xgb.score(X_test,Y_test)\n",
    "print(xgb_score)"
   ]
  },
  {
   "cell_type": "markdown",
   "metadata": {},
   "source": [
    "### GradientBoostClassifier"
   ]
  },
  {
   "cell_type": "code",
   "execution_count": 120,
   "metadata": {},
   "outputs": [
    {
     "data": {
      "text/plain": [
       "GradientBoostingClassifier(criterion='friedman_mse', init=None,\n",
       "                           learning_rate=0.1, loss='deviance', max_depth=3,\n",
       "                           max_features=None, max_leaf_nodes=None,\n",
       "                           min_impurity_decrease=0.0, min_impurity_split=None,\n",
       "                           min_samples_leaf=1, min_samples_split=2,\n",
       "                           min_weight_fraction_leaf=0.0, n_estimators=100,\n",
       "                           n_iter_no_change=None, presort='auto',\n",
       "                           random_state=None, subsample=1.0, tol=0.0001,\n",
       "                           validation_fraction=0.1, verbose=0,\n",
       "                           warm_start=False)"
      ]
     },
     "execution_count": 120,
     "metadata": {},
     "output_type": "execute_result"
    }
   ],
   "source": [
    "gradient_boost_clf = GradientBoostingClassifier()\n",
    "gradient_boost_clf.fit(X_train, Y_train)\n"
   ]
  },
  {
   "cell_type": "code",
   "execution_count": 121,
   "metadata": {},
   "outputs": [
    {
     "data": {
      "text/plain": [
       "array([1, 0, 1, ..., 0, 0, 1], dtype=int64)"
      ]
     },
     "execution_count": 121,
     "metadata": {},
     "output_type": "execute_result"
    }
   ],
   "source": [
    "gradient_boost_prediction=gradient_boost_clf.predict(X_test)\n",
    "gradient_boost_prediction"
   ]
  },
  {
   "cell_type": "code",
   "execution_count": 122,
   "metadata": {},
   "outputs": [
    {
     "name": "stdout",
     "output_type": "stream",
     "text": [
      "              precision    recall  f1-score   support\n",
      "\n",
      "           0       0.74      0.70      0.72     12048\n",
      "           1       0.70      0.74      0.72     11610\n",
      "\n",
      "    accuracy                           0.72     23658\n",
      "   macro avg       0.72      0.72      0.72     23658\n",
      "weighted avg       0.72      0.72      0.72     23658\n",
      "\n",
      "0.7180657705638684\n"
     ]
    }
   ],
   "source": [
    "# checking the accuracy\n",
    "print(classification_report(Y_test,gradient_boost_prediction))\n",
    "gradient_boost_score=gradient_boost_clf.score(X_test,Y_test)\n",
    "print(gradient_boost_score)"
   ]
  },
  {
   "cell_type": "code",
   "execution_count": 133,
   "metadata": {},
   "outputs": [
    {
     "data": {
      "image/png": "[encoded data removed]",
      "text/plain": [
       "<Figure size 432x288 with 1 Axes>"
      ]
     },
     "metadata": {
      "needs_background": "light"
     },
     "output_type": "display_data"
    }
   ],
   "source": [
    "# Let us compare the accuracy obtained from various models and compare them to decide which one to use \n",
    "algo=['gradient_boost_score','xgb_score','random_score','tree_score','gaussian_score','logistic_score']\n",
    "models_accuracy=[gradient_boost_score,xgb_score,random_score,tree_score,gaussian_score,logistic_score]\n",
    "plt.scatter(algo,models_accuracy,marker='o')\n",
    "plt.xticks(rotation=90)\n",
    "plt.xlabel('Algorithm used')\n",
    "plt.ylabel('Accuracy achieved')\n",
    "plt.show()"
   ]
  },
  {
   "cell_type": "markdown",
   "metadata": {},
   "source": [
    "### It is clearly visible that XGBoost classifier gives the highest accuracy so i will be choosing this algorithm to predict on the test data"
   ]
  },
  {
   "cell_type": "code",
   "execution_count": 134,
   "metadata": {},
   "outputs": [],
   "source": [
    "# Prediction from the model\n",
    "submission=pd.read_csv(r\"C:\\Users\\Nehad\\OneDrive\\Documents\\submission_by_me.csv\")\n",
    "xgb_predictions=xgb.predict(dummy_test_values)\n",
    "submission[\"Is_Lead\"]=xgb_predictions\n",
    "submission.to_csv(\"submission_for_hacakthon_xgb.csv\",index=False)"
   ]
  },
  {
   "cell_type": "code",
   "execution_count": null,
   "metadata": {},
   "outputs": [],
   "source": []
  },
  {
   "cell_type": "code",
   "execution_count": null,
   "metadata": {},
   "outputs": [],
   "source": []
  },
  {
   "cell_type": "code",
   "execution_count": null,
   "metadata": {},
   "outputs": [],
   "source": []
  },
  {
   "cell_type": "code",
   "execution_count": null,
   "metadata": {},
   "outputs": [],
   "source": []
  }
 ],
 "metadata": {
  "kernelspec": {
   "display_name": "Python 3",
   "language": "python",
   "name": "python3"
  },
  "language_info": {
   "codemirror_mode": {
    "name": "ipython",
    "version": 3
   },
   "file_extension": ".py",
   "mimetype": "text/x-python",
   "name": "python",
   "nbconvert_exporter": "python",
   "pygments_lexer": "ipython3",
   "version": "3.7.4"
  }
 },
 "nbformat": 4,
 "nbformat_minor": 2
}
